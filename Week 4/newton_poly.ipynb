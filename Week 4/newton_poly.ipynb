{
 "cells": [
  {
   "cell_type": "code",
   "execution_count": 1,
   "id": "86e62d91-a4bd-4cb6-b802-5e393ad7e26e",
   "metadata": {},
   "outputs": [],
   "source": [
    "import numpy as np\n",
    "import math\n",
    "import matplotlib.pyplot as plt"
   ]
  },
  {
   "cell_type": "code",
   "execution_count": 5,
   "id": "f4f778b0-fca0-4834-9104-bed06bd5a32c",
   "metadata": {},
   "outputs": [],
   "source": [
    "def divided_difference(nodes,values):\n",
    "    if nodes.size() == 1:\n",
    "        return values[0]\n",
    "    else:\n",
    "        return (divided_difference(nodes[1:], values[1:]) - divided_difference(nodes[:-1], values[:-1])) / (nodes[-1] - nodes[0])"
   ]
  },
  {
   "cell_type": "code",
   "execution_count": 17,
   "id": "88cd83ad-3035-4fde-9e04-bd8fd0d94ad9",
   "metadata": {},
   "outputs": [],
   "source": [
    "def newton_poly(nodes, values, x):\n",
    "    poly = 0\n",
    "    product = 1\n",
    "    for i in range(nodes.size):\n",
    "        poly += divided_difference(nodes[ : i + 1],values[ : i + 1]) * product\n",
    "        product *= (x - nodes[i])\n",
    "    return poly"
   ]
  }
 ],
 "metadata": {
  "kernelspec": {
   "display_name": "anaconda-2024.02-py310",
   "language": "python",
   "name": "conda-env-anaconda-2024.02-py310-py"
  },
  "language_info": {
   "codemirror_mode": {
    "name": "ipython",
    "version": 3
   },
   "file_extension": ".py",
   "mimetype": "text/x-python",
   "name": "python",
   "nbconvert_exporter": "python",
   "pygments_lexer": "ipython3",
   "version": "3.10.14"
  }
 },
 "nbformat": 4,
 "nbformat_minor": 5
}
